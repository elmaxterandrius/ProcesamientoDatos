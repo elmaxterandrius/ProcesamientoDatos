{
  "nbformat": 4,
  "nbformat_minor": 0,
  "metadata": {
    "colab": {
      "provenance": []
    },
    "kernelspec": {
      "name": "python3",
      "display_name": "Python 3"
    },
    "language_info": {
      "name": "python"
    }
  },
  "cells": [
    {
      "cell_type": "markdown",
      "source": [
        "**1. Instalacion de JAVA**\n",
        "\n"
      ],
      "metadata": {
        "id": "iMnnZHhLUCUT"
      }
    },
    {
      "cell_type": "code",
      "execution_count": 1,
      "metadata": {
        "id": "QAOdBqCfJh84"
      },
      "outputs": [],
      "source": [
        "!apt-get install -y openjdk-11-jdk-headless -qq > /dev/null"
      ]
    },
    {
      "cell_type": "markdown",
      "source": [
        "**2. Instalar hadoop**"
      ],
      "metadata": {
        "id": "a0B8Wj7cUWEj"
      }
    },
    {
      "cell_type": "code",
      "source": [
        "!wget https://downloads.apache.org/hadoop/common/hadoop-3.3.6/hadoop-3.3.6.tar.gz"
      ],
      "metadata": {
        "colab": {
          "base_uri": "https://localhost:8080/"
        },
        "id": "38xfOl6RKq42",
        "outputId": "2576587f-7418-4bc9-8991-fede185f7060"
      },
      "execution_count": 3,
      "outputs": [
        {
          "output_type": "stream",
          "name": "stdout",
          "text": [
            "--2025-01-08 04:29:11--  https://downloads.apache.org/hadoop/common/hadoop-3.3.6/hadoop-3.3.6.tar.gz\n",
            "Resolving downloads.apache.org (downloads.apache.org)... 135.181.214.104, 88.99.208.237, 2a01:4f8:10a:39da::2, ...\n",
            "Connecting to downloads.apache.org (downloads.apache.org)|135.181.214.104|:443... connected.\n",
            "HTTP request sent, awaiting response... 200 OK\n",
            "Length: 730107476 (696M) [application/x-gzip]\n",
            "Saving to: ‘hadoop-3.3.6.tar.gz’\n",
            "\n",
            "hadoop-3.3.6.tar.gz 100%[===================>] 696.28M  23.8MB/s    in 31s     \n",
            "\n",
            "2025-01-08 04:29:43 (22.7 MB/s) - ‘hadoop-3.3.6.tar.gz’ saved [730107476/730107476]\n",
            "\n"
          ]
        }
      ]
    },
    {
      "cell_type": "markdown",
      "source": [
        "**3. Descomprimir hadoop y mover la carpeta hadoop a la carpeta /usr/local/**\n",
        "\n",
        "\n",
        "\n"
      ],
      "metadata": {
        "id": "cDc7u6sTUfyI"
      }
    },
    {
      "cell_type": "code",
      "source": [
        "!tar -xzf hadoop-3.3.6.tar.gz\n",
        "!mv hadoop-3.3.6/ /usr/local/"
      ],
      "metadata": {
        "id": "Y5Z9-Tf8LjpF"
      },
      "execution_count": 4,
      "outputs": []
    },
    {
      "cell_type": "markdown",
      "source": [
        "**4. Agregar las variables de entorno de JAVA y Hadoop y agregar al path el comando hadoop**"
      ],
      "metadata": {
        "id": "wmizjbXRU1gw"
      }
    },
    {
      "cell_type": "code",
      "source": [
        "import os\n",
        "os.environ[\"JAVA_HOME\"] = \"/usr/lib/jvm/java-11-openjdk-amd64\"\n",
        "os.environ[\"HADOOP_HOME\"] = \"/usr/local/hadoop-3.3.6\"\n",
        "os.environ[\"PATH\"] += os.pathsep + \"/usr/local/hadoop-3.3.6/bin\""
      ],
      "metadata": {
        "id": "HByNJANaMHRb"
      },
      "execution_count": 5,
      "outputs": []
    },
    {
      "cell_type": "markdown",
      "source": [
        "**5. Creamos por consola la carpeta entradaWordCount y agregamos palabras**"
      ],
      "metadata": {
        "id": "18Zn7XEZVUM9"
      }
    },
    {
      "cell_type": "code",
      "source": [
        "%%bash\n",
        "mkdir entradaWordCount\n",
        "{\n",
        "echo \"Esto es una linea de prueba\"\n",
        "echo \"segunda linea de prueba\"\n",
        "echo \"Podemos incluir las líneas que queramos\"\n",
        "echo \"esta es la ultima linea\"\n",
        "} > ./entradaWordCount/entrada-1"
      ],
      "metadata": {
        "colab": {
          "base_uri": "https://localhost:8080/"
        },
        "id": "BEtM6mzCMdGz",
        "outputId": "858bff2e-a732-4607-f0e1-b061b4e16a30"
      },
      "execution_count": 9,
      "outputs": [
        {
          "output_type": "stream",
          "name": "stderr",
          "text": [
            "mkdir: cannot create directory ‘entradaWordCount’: File exists\n"
          ]
        }
      ]
    },
    {
      "cell_type": "markdown",
      "source": [
        "**6. Lanzamos hadoop**"
      ],
      "metadata": {
        "id": "6MMgkjFeVyNa"
      }
    },
    {
      "cell_type": "code",
      "source": [
        "!hadoop jar $HADOOP_HOME/share/hadoop/mapreduce/hadoop-mapreduce-examples-3.3.6.jar wordcount ./entradaWordCount ./salidaWordCount"
      ],
      "metadata": {
        "colab": {
          "base_uri": "https://localhost:8080/"
        },
        "id": "3ifH1-LgMjCG",
        "outputId": "44a3bdb5-b0b2-4bb7-866a-97222d0fbdbd"
      },
      "execution_count": 10,
      "outputs": [
        {
          "output_type": "stream",
          "name": "stdout",
          "text": [
            "2025-01-08 04:37:44,548 INFO impl.MetricsConfig: Loaded properties from hadoop-metrics2.properties\n",
            "2025-01-08 04:37:44,860 INFO impl.MetricsSystemImpl: Scheduled Metric snapshot period at 10 second(s).\n",
            "2025-01-08 04:37:44,860 INFO impl.MetricsSystemImpl: JobTracker metrics system started\n",
            "2025-01-08 04:37:45,243 INFO input.FileInputFormat: Total input files to process : 1\n",
            "2025-01-08 04:37:45,301 INFO mapreduce.JobSubmitter: number of splits:1\n",
            "2025-01-08 04:37:45,772 INFO mapreduce.JobSubmitter: Submitting tokens for job: job_local351852686_0001\n",
            "2025-01-08 04:37:45,772 INFO mapreduce.JobSubmitter: Executing with tokens: []\n",
            "2025-01-08 04:37:46,093 INFO mapreduce.Job: The url to track the job: http://localhost:8080/\n",
            "2025-01-08 04:37:46,094 INFO mapreduce.Job: Running job: job_local351852686_0001\n",
            "2025-01-08 04:37:46,105 INFO mapred.LocalJobRunner: OutputCommitter set in config null\n",
            "2025-01-08 04:37:46,114 INFO output.PathOutputCommitterFactory: No output committer factory defined, defaulting to FileOutputCommitterFactory\n",
            "2025-01-08 04:37:46,115 INFO output.FileOutputCommitter: File Output Committer Algorithm version is 2\n",
            "2025-01-08 04:37:46,115 INFO output.FileOutputCommitter: FileOutputCommitter skip cleanup _temporary folders under output directory:false, ignore cleanup failures: false\n",
            "2025-01-08 04:37:46,116 INFO mapred.LocalJobRunner: OutputCommitter is org.apache.hadoop.mapreduce.lib.output.FileOutputCommitter\n",
            "2025-01-08 04:37:46,189 INFO mapred.LocalJobRunner: Waiting for map tasks\n",
            "2025-01-08 04:37:46,191 INFO mapred.LocalJobRunner: Starting task: attempt_local351852686_0001_m_000000_0\n",
            "2025-01-08 04:37:46,241 INFO output.PathOutputCommitterFactory: No output committer factory defined, defaulting to FileOutputCommitterFactory\n",
            "2025-01-08 04:37:46,244 INFO output.FileOutputCommitter: File Output Committer Algorithm version is 2\n",
            "2025-01-08 04:37:46,245 INFO output.FileOutputCommitter: FileOutputCommitter skip cleanup _temporary folders under output directory:false, ignore cleanup failures: false\n",
            "2025-01-08 04:37:46,291 INFO mapred.Task:  Using ResourceCalculatorProcessTree : [ ]\n",
            "2025-01-08 04:37:46,301 INFO mapred.MapTask: Processing split: file:/content/entradaWordCount/entrada-1:0+117\n",
            "2025-01-08 04:37:46,509 INFO mapred.MapTask: (EQUATOR) 0 kvi 26214396(104857584)\n",
            "2025-01-08 04:37:46,510 INFO mapred.MapTask: mapreduce.task.io.sort.mb: 100\n",
            "2025-01-08 04:37:46,510 INFO mapred.MapTask: soft limit at 83886080\n",
            "2025-01-08 04:37:46,510 INFO mapred.MapTask: bufstart = 0; bufvoid = 104857600\n",
            "2025-01-08 04:37:46,510 INFO mapred.MapTask: kvstart = 26214396; length = 6553600\n",
            "2025-01-08 04:37:46,516 INFO mapred.MapTask: Map output collector class = org.apache.hadoop.mapred.MapTask$MapOutputBuffer\n",
            "2025-01-08 04:37:46,529 INFO mapred.LocalJobRunner: \n",
            "2025-01-08 04:37:46,530 INFO mapred.MapTask: Starting flush of map output\n",
            "2025-01-08 04:37:46,530 INFO mapred.MapTask: Spilling map output\n",
            "2025-01-08 04:37:46,530 INFO mapred.MapTask: bufstart = 0; bufend = 201; bufvoid = 104857600\n",
            "2025-01-08 04:37:46,530 INFO mapred.MapTask: kvstart = 26214396(104857584); kvend = 26214316(104857264); length = 81/6553600\n",
            "2025-01-08 04:37:46,553 INFO mapred.MapTask: Finished spill 0\n",
            "2025-01-08 04:37:46,567 INFO mapred.Task: Task:attempt_local351852686_0001_m_000000_0 is done. And is in the process of committing\n",
            "2025-01-08 04:37:46,574 INFO mapred.LocalJobRunner: map\n",
            "2025-01-08 04:37:46,574 INFO mapred.Task: Task 'attempt_local351852686_0001_m_000000_0' done.\n",
            "2025-01-08 04:37:46,584 INFO mapred.Task: Final Counters for attempt_local351852686_0001_m_000000_0: Counters: 18\n",
            "\tFile System Counters\n",
            "\t\tFILE: Number of bytes read=281624\n",
            "\t\tFILE: Number of bytes written=916788\n",
            "\t\tFILE: Number of read operations=0\n",
            "\t\tFILE: Number of large read operations=0\n",
            "\t\tFILE: Number of write operations=0\n",
            "\tMap-Reduce Framework\n",
            "\t\tMap input records=4\n",
            "\t\tMap output records=21\n",
            "\t\tMap output bytes=201\n",
            "\t\tMap output materialized bytes=194\n",
            "\t\tInput split bytes=105\n",
            "\t\tCombine input records=21\n",
            "\t\tCombine output records=16\n",
            "\t\tSpilled Records=16\n",
            "\t\tFailed Shuffles=0\n",
            "\t\tMerged Map outputs=0\n",
            "\t\tGC time elapsed (ms)=0\n",
            "\t\tTotal committed heap usage (bytes)=335544320\n",
            "\tFile Input Format Counters \n",
            "\t\tBytes Read=117\n",
            "2025-01-08 04:37:46,584 INFO mapred.LocalJobRunner: Finishing task: attempt_local351852686_0001_m_000000_0\n",
            "2025-01-08 04:37:46,585 INFO mapred.LocalJobRunner: map task executor complete.\n",
            "2025-01-08 04:37:46,589 INFO mapred.LocalJobRunner: Waiting for reduce tasks\n",
            "2025-01-08 04:37:46,589 INFO mapred.LocalJobRunner: Starting task: attempt_local351852686_0001_r_000000_0\n",
            "2025-01-08 04:37:46,606 INFO output.PathOutputCommitterFactory: No output committer factory defined, defaulting to FileOutputCommitterFactory\n",
            "2025-01-08 04:37:46,606 INFO output.FileOutputCommitter: File Output Committer Algorithm version is 2\n",
            "2025-01-08 04:37:46,606 INFO output.FileOutputCommitter: FileOutputCommitter skip cleanup _temporary folders under output directory:false, ignore cleanup failures: false\n",
            "2025-01-08 04:37:46,607 INFO mapred.Task:  Using ResourceCalculatorProcessTree : [ ]\n",
            "2025-01-08 04:37:46,611 INFO mapred.ReduceTask: Using ShuffleConsumerPlugin: org.apache.hadoop.mapreduce.task.reduce.Shuffle@b88c00a\n",
            "2025-01-08 04:37:46,613 WARN impl.MetricsSystemImpl: JobTracker metrics system already initialized!\n",
            "2025-01-08 04:37:46,643 INFO reduce.MergeManagerImpl: MergerManager: memoryLimit=2382574336, maxSingleShuffleLimit=595643584, mergeThreshold=1572499072, ioSortFactor=10, memToMemMergeOutputsThreshold=10\n",
            "2025-01-08 04:37:46,650 INFO reduce.EventFetcher: attempt_local351852686_0001_r_000000_0 Thread started: EventFetcher for fetching Map Completion Events\n",
            "2025-01-08 04:37:46,699 INFO reduce.LocalFetcher: localfetcher#1 about to shuffle output of map attempt_local351852686_0001_m_000000_0 decomp: 190 len: 194 to MEMORY\n",
            "2025-01-08 04:37:46,710 INFO reduce.InMemoryMapOutput: Read 190 bytes from map-output for attempt_local351852686_0001_m_000000_0\n",
            "2025-01-08 04:37:46,717 INFO reduce.MergeManagerImpl: closeInMemoryFile -> map-output of size: 190, inMemoryMapOutputs.size() -> 1, commitMemory -> 0, usedMemory ->190\n",
            "2025-01-08 04:37:46,722 INFO reduce.EventFetcher: EventFetcher is interrupted.. Returning\n",
            "2025-01-08 04:37:46,724 INFO mapred.LocalJobRunner: 1 / 1 copied.\n",
            "2025-01-08 04:37:46,724 INFO reduce.MergeManagerImpl: finalMerge called with 1 in-memory map-outputs and 0 on-disk map-outputs\n",
            "2025-01-08 04:37:46,742 INFO mapred.Merger: Merging 1 sorted segments\n",
            "2025-01-08 04:37:46,742 INFO mapred.Merger: Down to the last merge-pass, with 1 segments left of total size: 183 bytes\n",
            "2025-01-08 04:37:46,745 INFO reduce.MergeManagerImpl: Merged 1 segments, 190 bytes to disk to satisfy reduce memory limit\n",
            "2025-01-08 04:37:46,745 INFO reduce.MergeManagerImpl: Merging 1 files, 194 bytes from disk\n",
            "2025-01-08 04:37:46,746 INFO reduce.MergeManagerImpl: Merging 0 segments, 0 bytes from memory into reduce\n",
            "2025-01-08 04:37:46,746 INFO mapred.Merger: Merging 1 sorted segments\n",
            "2025-01-08 04:37:46,747 INFO mapred.Merger: Down to the last merge-pass, with 1 segments left of total size: 183 bytes\n",
            "2025-01-08 04:37:46,748 INFO mapred.LocalJobRunner: 1 / 1 copied.\n",
            "2025-01-08 04:37:46,751 INFO Configuration.deprecation: mapred.skip.on is deprecated. Instead, use mapreduce.job.skiprecords\n",
            "2025-01-08 04:37:46,756 INFO mapred.Task: Task:attempt_local351852686_0001_r_000000_0 is done. And is in the process of committing\n",
            "2025-01-08 04:37:46,757 INFO mapred.LocalJobRunner: 1 / 1 copied.\n",
            "2025-01-08 04:37:46,757 INFO mapred.Task: Task attempt_local351852686_0001_r_000000_0 is allowed to commit now\n",
            "2025-01-08 04:37:46,759 INFO output.FileOutputCommitter: Saved output of task 'attempt_local351852686_0001_r_000000_0' to file:/content/salidaWordCount\n",
            "2025-01-08 04:37:46,760 INFO mapred.LocalJobRunner: reduce > reduce\n",
            "2025-01-08 04:37:46,760 INFO mapred.Task: Task 'attempt_local351852686_0001_r_000000_0' done.\n",
            "2025-01-08 04:37:46,761 INFO mapred.Task: Final Counters for attempt_local351852686_0001_r_000000_0: Counters: 24\n",
            "\tFile System Counters\n",
            "\t\tFILE: Number of bytes read=282044\n",
            "\t\tFILE: Number of bytes written=917118\n",
            "\t\tFILE: Number of read operations=0\n",
            "\t\tFILE: Number of large read operations=0\n",
            "\t\tFILE: Number of write operations=0\n",
            "\tMap-Reduce Framework\n",
            "\t\tCombine input records=0\n",
            "\t\tCombine output records=0\n",
            "\t\tReduce input groups=16\n",
            "\t\tReduce shuffle bytes=194\n",
            "\t\tReduce input records=16\n",
            "\t\tReduce output records=16\n",
            "\t\tSpilled Records=16\n",
            "\t\tShuffled Maps =1\n",
            "\t\tFailed Shuffles=0\n",
            "\t\tMerged Map outputs=1\n",
            "\t\tGC time elapsed (ms)=0\n",
            "\t\tTotal committed heap usage (bytes)=335544320\n",
            "\tShuffle Errors\n",
            "\t\tBAD_ID=0\n",
            "\t\tCONNECTION=0\n",
            "\t\tIO_ERROR=0\n",
            "\t\tWRONG_LENGTH=0\n",
            "\t\tWRONG_MAP=0\n",
            "\t\tWRONG_REDUCE=0\n",
            "\tFile Output Format Counters \n",
            "\t\tBytes Written=136\n",
            "2025-01-08 04:37:46,761 INFO mapred.LocalJobRunner: Finishing task: attempt_local351852686_0001_r_000000_0\n",
            "2025-01-08 04:37:46,761 INFO mapred.LocalJobRunner: reduce task executor complete.\n",
            "2025-01-08 04:37:47,101 INFO mapreduce.Job: Job job_local351852686_0001 running in uber mode : false\n",
            "2025-01-08 04:37:47,103 INFO mapreduce.Job:  map 100% reduce 100%\n",
            "2025-01-08 04:37:47,104 INFO mapreduce.Job: Job job_local351852686_0001 completed successfully\n",
            "2025-01-08 04:37:47,116 INFO mapreduce.Job: Counters: 30\n",
            "\tFile System Counters\n",
            "\t\tFILE: Number of bytes read=563668\n",
            "\t\tFILE: Number of bytes written=1833906\n",
            "\t\tFILE: Number of read operations=0\n",
            "\t\tFILE: Number of large read operations=0\n",
            "\t\tFILE: Number of write operations=0\n",
            "\tMap-Reduce Framework\n",
            "\t\tMap input records=4\n",
            "\t\tMap output records=21\n",
            "\t\tMap output bytes=201\n",
            "\t\tMap output materialized bytes=194\n",
            "\t\tInput split bytes=105\n",
            "\t\tCombine input records=21\n",
            "\t\tCombine output records=16\n",
            "\t\tReduce input groups=16\n",
            "\t\tReduce shuffle bytes=194\n",
            "\t\tReduce input records=16\n",
            "\t\tReduce output records=16\n",
            "\t\tSpilled Records=32\n",
            "\t\tShuffled Maps =1\n",
            "\t\tFailed Shuffles=0\n",
            "\t\tMerged Map outputs=1\n",
            "\t\tGC time elapsed (ms)=0\n",
            "\t\tTotal committed heap usage (bytes)=671088640\n",
            "\tShuffle Errors\n",
            "\t\tBAD_ID=0\n",
            "\t\tCONNECTION=0\n",
            "\t\tIO_ERROR=0\n",
            "\t\tWRONG_LENGTH=0\n",
            "\t\tWRONG_MAP=0\n",
            "\t\tWRONG_REDUCE=0\n",
            "\tFile Input Format Counters \n",
            "\t\tBytes Read=117\n",
            "\tFile Output Format Counters \n",
            "\t\tBytes Written=136\n"
          ]
        }
      ]
    },
    {
      "cell_type": "code",
      "source": [
        "!cat ./salidaWordCount/*"
      ],
      "metadata": {
        "colab": {
          "base_uri": "https://localhost:8080/"
        },
        "id": "pqcLnq8pNafl",
        "outputId": "76308d4c-7bbf-4b7e-a2c6-707dc1cac0d2"
      },
      "execution_count": 11,
      "outputs": [
        {
          "output_type": "stream",
          "name": "stdout",
          "text": [
            "Esto\t1\n",
            "Podemos\t1\n",
            "de\t2\n",
            "es\t2\n",
            "esta\t1\n",
            "incluir\t1\n",
            "la\t1\n",
            "las\t1\n",
            "linea\t3\n",
            "líneas\t1\n",
            "prueba\t2\n",
            "que\t1\n",
            "queramos\t1\n",
            "segunda\t1\n",
            "ultima\t1\n",
            "una\t1\n"
          ]
        }
      ]
    },
    {
      "cell_type": "code",
      "source": [
        "%%bash\n",
        "{\n",
        "echo -e \"1999\\tEnero\\t1\"\n",
        "echo -e \"1999\\tEnero\\t5\"\n",
        "echo -e \"1999\\tEnero\\t3\"\n",
        "echo -e \"1999\\tEnero\\t2\"\n",
        "echo -e \"1999\\tFebrero\\t4\"\n",
        "echo -e \"1999\\tFebrero\\t2\"\n",
        "echo -e \"2000\\tEnero\\t3\"\n",
        "echo -e \"2000\\tEnero\\t6\"\n",
        "echo -e \"2000\\tFebrero\\t6\"\n",
        "echo -e \"2000\\tFebrero\\t2\"\n",
        "echo -e \"2001\\tAbril\\t3\"\n",
        "} > ./medidas.txt"
      ],
      "metadata": {
        "id": "cfMAyMndOTQF"
      },
      "execution_count": 12,
      "outputs": []
    },
    {
      "cell_type": "code",
      "source": [
        "!chmod u+x ./mapperMaxTemp.py\n",
        "!chmod u+x ./reducerMaxTemp.py"
      ],
      "metadata": {
        "id": "UKTYBeXcOmwk"
      },
      "execution_count": 13,
      "outputs": []
    },
    {
      "cell_type": "code",
      "source": [
        "!hadoop jar $HADOOP_HOME/share/hadoop/tools/lib/hadoop-streaming-3.3.6.jar -file ./mapperMaxTemp.py -mapper ./mapperMaxTemp.py -file ./reducerMaxTemp.py -reducer ./reducerMaxTemp.py -input medidas.txt -output ./salidaMaxTemp1"
      ],
      "metadata": {
        "colab": {
          "base_uri": "https://localhost:8080/"
        },
        "id": "bzRj4t3aRr4N",
        "outputId": "3677bb0e-6c6a-499e-cda0-17459a9b760f"
      },
      "execution_count": 14,
      "outputs": [
        {
          "output_type": "stream",
          "name": "stdout",
          "text": [
            "2025-01-08 04:58:29,318 WARN streaming.StreamJob: -file option is deprecated, please use generic option -files instead.\n",
            "packageJobJar: [./mapperMaxTemp.py, ./reducerMaxTemp.py] [] /tmp/streamjob6090198331952899345.jar tmpDir=null\n",
            "2025-01-08 04:58:30,300 INFO impl.MetricsConfig: Loaded properties from hadoop-metrics2.properties\n",
            "2025-01-08 04:58:30,546 INFO impl.MetricsSystemImpl: Scheduled Metric snapshot period at 10 second(s).\n",
            "2025-01-08 04:58:30,546 INFO impl.MetricsSystemImpl: JobTracker metrics system started\n",
            "2025-01-08 04:58:30,573 WARN impl.MetricsSystemImpl: JobTracker metrics system already initialized!\n",
            "2025-01-08 04:58:30,854 INFO mapred.FileInputFormat: Total input files to process : 1\n",
            "2025-01-08 04:58:30,887 INFO mapreduce.JobSubmitter: number of splits:1\n",
            "2025-01-08 04:58:31,234 INFO mapreduce.JobSubmitter: Submitting tokens for job: job_local1096909175_0001\n",
            "2025-01-08 04:58:31,234 INFO mapreduce.JobSubmitter: Executing with tokens: []\n",
            "2025-01-08 04:58:31,785 INFO mapred.LocalDistributedCacheManager: Localized file:/content/mapperMaxTemp.py as file:/tmp/hadoop-root/mapred/local/job_local1096909175_0001_7ff7eeb2-7661-4429-ab95-4d70a333b495/mapperMaxTemp.py\n",
            "2025-01-08 04:58:31,823 INFO mapred.LocalDistributedCacheManager: Localized file:/content/reducerMaxTemp.py as file:/tmp/hadoop-root/mapred/local/job_local1096909175_0001_9032280c-9147-4bdc-a768-2d7e7c4f0b7f/reducerMaxTemp.py\n",
            "2025-01-08 04:58:31,920 INFO mapreduce.Job: The url to track the job: http://localhost:8080/\n",
            "2025-01-08 04:58:31,922 INFO mapreduce.Job: Running job: job_local1096909175_0001\n",
            "2025-01-08 04:58:31,931 INFO mapred.LocalJobRunner: OutputCommitter set in config null\n",
            "2025-01-08 04:58:31,934 INFO mapred.LocalJobRunner: OutputCommitter is org.apache.hadoop.mapred.FileOutputCommitter\n",
            "2025-01-08 04:58:31,954 INFO output.FileOutputCommitter: File Output Committer Algorithm version is 2\n",
            "2025-01-08 04:58:31,954 INFO output.FileOutputCommitter: FileOutputCommitter skip cleanup _temporary folders under output directory:false, ignore cleanup failures: false\n",
            "2025-01-08 04:58:32,049 INFO mapred.LocalJobRunner: Waiting for map tasks\n",
            "2025-01-08 04:58:32,052 INFO mapred.LocalJobRunner: Starting task: attempt_local1096909175_0001_m_000000_0\n",
            "2025-01-08 04:58:32,089 INFO output.FileOutputCommitter: File Output Committer Algorithm version is 2\n",
            "2025-01-08 04:58:32,090 INFO output.FileOutputCommitter: FileOutputCommitter skip cleanup _temporary folders under output directory:false, ignore cleanup failures: false\n",
            "2025-01-08 04:58:32,120 INFO mapred.Task:  Using ResourceCalculatorProcessTree : [ ]\n",
            "2025-01-08 04:58:32,136 INFO mapred.MapTask: Processing split: file:/content/medidas.txt:0+151\n",
            "2025-01-08 04:58:32,152 INFO mapred.MapTask: numReduceTasks: 1\n",
            "2025-01-08 04:58:32,337 INFO mapred.MapTask: (EQUATOR) 0 kvi 26214396(104857584)\n",
            "2025-01-08 04:58:32,337 INFO mapred.MapTask: mapreduce.task.io.sort.mb: 100\n",
            "2025-01-08 04:58:32,337 INFO mapred.MapTask: soft limit at 83886080\n",
            "2025-01-08 04:58:32,337 INFO mapred.MapTask: bufstart = 0; bufvoid = 104857600\n",
            "2025-01-08 04:58:32,337 INFO mapred.MapTask: kvstart = 26214396; length = 6553600\n",
            "2025-01-08 04:58:32,343 INFO mapred.MapTask: Map output collector class = org.apache.hadoop.mapred.MapTask$MapOutputBuffer\n",
            "2025-01-08 04:58:32,351 INFO streaming.PipeMapRed: PipeMapRed exec [/content/./mapperMaxTemp.py]\n",
            "2025-01-08 04:58:32,360 INFO Configuration.deprecation: mapred.work.output.dir is deprecated. Instead, use mapreduce.task.output.dir\n",
            "2025-01-08 04:58:32,363 INFO Configuration.deprecation: mapred.local.dir is deprecated. Instead, use mapreduce.cluster.local.dir\n",
            "2025-01-08 04:58:32,366 INFO Configuration.deprecation: map.input.file is deprecated. Instead, use mapreduce.map.input.file\n",
            "2025-01-08 04:58:32,366 INFO Configuration.deprecation: map.input.length is deprecated. Instead, use mapreduce.map.input.length\n",
            "2025-01-08 04:58:32,367 INFO Configuration.deprecation: mapred.job.id is deprecated. Instead, use mapreduce.job.id\n",
            "2025-01-08 04:58:32,368 INFO Configuration.deprecation: mapred.task.partition is deprecated. Instead, use mapreduce.task.partition\n",
            "2025-01-08 04:58:32,370 INFO Configuration.deprecation: map.input.start is deprecated. Instead, use mapreduce.map.input.start\n",
            "2025-01-08 04:58:32,371 INFO Configuration.deprecation: mapred.task.is.map is deprecated. Instead, use mapreduce.task.ismap\n",
            "2025-01-08 04:58:32,371 INFO Configuration.deprecation: mapred.task.id is deprecated. Instead, use mapreduce.task.attempt.id\n",
            "2025-01-08 04:58:32,372 INFO Configuration.deprecation: mapred.tip.id is deprecated. Instead, use mapreduce.task.id\n",
            "2025-01-08 04:58:32,373 INFO Configuration.deprecation: mapred.skip.on is deprecated. Instead, use mapreduce.job.skiprecords\n",
            "2025-01-08 04:58:32,374 INFO Configuration.deprecation: user.name is deprecated. Instead, use mapreduce.job.user.name\n",
            "2025-01-08 04:58:32,417 INFO streaming.PipeMapRed: R/W/S=1/0/0 in:NA [rec/s] out:NA [rec/s]\n",
            "2025-01-08 04:58:32,418 INFO streaming.PipeMapRed: R/W/S=10/0/0 in:NA [rec/s] out:NA [rec/s]\n",
            "2025-01-08 04:58:32,460 INFO streaming.PipeMapRed: Records R/W=11/1\n",
            "2025-01-08 04:58:32,463 INFO streaming.PipeMapRed: MRErrorThread done\n",
            "2025-01-08 04:58:32,464 INFO streaming.PipeMapRed: mapRedFinished\n",
            "2025-01-08 04:58:32,468 INFO mapred.LocalJobRunner: \n",
            "2025-01-08 04:58:32,468 INFO mapred.MapTask: Starting flush of map output\n",
            "2025-01-08 04:58:32,468 INFO mapred.MapTask: Spilling map output\n",
            "2025-01-08 04:58:32,468 INFO mapred.MapTask: bufstart = 0; bufend = 77; bufvoid = 104857600\n",
            "2025-01-08 04:58:32,468 INFO mapred.MapTask: kvstart = 26214396(104857584); kvend = 26214356(104857424); length = 41/6553600\n",
            "2025-01-08 04:58:32,478 INFO mapred.MapTask: Finished spill 0\n",
            "2025-01-08 04:58:32,500 INFO mapred.Task: Task:attempt_local1096909175_0001_m_000000_0 is done. And is in the process of committing\n",
            "2025-01-08 04:58:32,505 INFO mapred.LocalJobRunner: Records R/W=11/1\n",
            "2025-01-08 04:58:32,505 INFO mapred.Task: Task 'attempt_local1096909175_0001_m_000000_0' done.\n",
            "2025-01-08 04:58:32,516 INFO mapred.Task: Final Counters for attempt_local1096909175_0001_m_000000_0: Counters: 17\n",
            "\tFile System Counters\n",
            "\t\tFILE: Number of bytes read=2330\n",
            "\t\tFILE: Number of bytes written=645589\n",
            "\t\tFILE: Number of read operations=0\n",
            "\t\tFILE: Number of large read operations=0\n",
            "\t\tFILE: Number of write operations=0\n",
            "\tMap-Reduce Framework\n",
            "\t\tMap input records=11\n",
            "\t\tMap output records=11\n",
            "\t\tMap output bytes=77\n",
            "\t\tMap output materialized bytes=105\n",
            "\t\tInput split bytes=77\n",
            "\t\tCombine input records=0\n",
            "\t\tSpilled Records=11\n",
            "\t\tFailed Shuffles=0\n",
            "\t\tMerged Map outputs=0\n",
            "\t\tGC time elapsed (ms)=0\n",
            "\t\tTotal committed heap usage (bytes)=303038464\n",
            "\tFile Input Format Counters \n",
            "\t\tBytes Read=151\n",
            "2025-01-08 04:58:32,516 INFO mapred.LocalJobRunner: Finishing task: attempt_local1096909175_0001_m_000000_0\n",
            "2025-01-08 04:58:32,516 INFO mapred.LocalJobRunner: map task executor complete.\n",
            "2025-01-08 04:58:32,521 INFO mapred.LocalJobRunner: Waiting for reduce tasks\n",
            "2025-01-08 04:58:32,522 INFO mapred.LocalJobRunner: Starting task: attempt_local1096909175_0001_r_000000_0\n",
            "2025-01-08 04:58:32,536 INFO output.FileOutputCommitter: File Output Committer Algorithm version is 2\n",
            "2025-01-08 04:58:32,536 INFO output.FileOutputCommitter: FileOutputCommitter skip cleanup _temporary folders under output directory:false, ignore cleanup failures: false\n",
            "2025-01-08 04:58:32,536 INFO mapred.Task:  Using ResourceCalculatorProcessTree : [ ]\n",
            "2025-01-08 04:58:32,547 INFO mapred.ReduceTask: Using ShuffleConsumerPlugin: org.apache.hadoop.mapreduce.task.reduce.Shuffle@5e15881\n",
            "2025-01-08 04:58:32,549 WARN impl.MetricsSystemImpl: JobTracker metrics system already initialized!\n",
            "2025-01-08 04:58:32,580 INFO reduce.MergeManagerImpl: MergerManager: memoryLimit=2382574336, maxSingleShuffleLimit=595643584, mergeThreshold=1572499072, ioSortFactor=10, memToMemMergeOutputsThreshold=10\n",
            "2025-01-08 04:58:32,596 INFO reduce.EventFetcher: attempt_local1096909175_0001_r_000000_0 Thread started: EventFetcher for fetching Map Completion Events\n",
            "2025-01-08 04:58:32,647 INFO reduce.LocalFetcher: localfetcher#1 about to shuffle output of map attempt_local1096909175_0001_m_000000_0 decomp: 101 len: 105 to MEMORY\n",
            "2025-01-08 04:58:32,652 INFO reduce.InMemoryMapOutput: Read 101 bytes from map-output for attempt_local1096909175_0001_m_000000_0\n",
            "2025-01-08 04:58:32,655 INFO reduce.MergeManagerImpl: closeInMemoryFile -> map-output of size: 101, inMemoryMapOutputs.size() -> 1, commitMemory -> 0, usedMemory ->101\n",
            "2025-01-08 04:58:32,661 INFO reduce.EventFetcher: EventFetcher is interrupted.. Returning\n",
            "2025-01-08 04:58:32,662 INFO mapred.LocalJobRunner: 1 / 1 copied.\n",
            "2025-01-08 04:58:32,663 INFO reduce.MergeManagerImpl: finalMerge called with 1 in-memory map-outputs and 0 on-disk map-outputs\n",
            "2025-01-08 04:58:32,673 INFO mapred.Merger: Merging 1 sorted segments\n",
            "2025-01-08 04:58:32,673 INFO mapred.Merger: Down to the last merge-pass, with 1 segments left of total size: 94 bytes\n",
            "2025-01-08 04:58:32,675 INFO reduce.MergeManagerImpl: Merged 1 segments, 101 bytes to disk to satisfy reduce memory limit\n",
            "2025-01-08 04:58:32,676 INFO reduce.MergeManagerImpl: Merging 1 files, 105 bytes from disk\n",
            "2025-01-08 04:58:32,677 INFO reduce.MergeManagerImpl: Merging 0 segments, 0 bytes from memory into reduce\n",
            "2025-01-08 04:58:32,677 INFO mapred.Merger: Merging 1 sorted segments\n",
            "2025-01-08 04:58:32,679 INFO mapred.Merger: Down to the last merge-pass, with 1 segments left of total size: 94 bytes\n",
            "2025-01-08 04:58:32,679 INFO mapred.LocalJobRunner: 1 / 1 copied.\n",
            "2025-01-08 04:58:32,690 INFO streaming.PipeMapRed: PipeMapRed exec [/content/./reducerMaxTemp.py]\n",
            "2025-01-08 04:58:32,696 INFO Configuration.deprecation: mapred.job.tracker is deprecated. Instead, use mapreduce.jobtracker.address\n",
            "2025-01-08 04:58:32,700 INFO Configuration.deprecation: mapred.map.tasks is deprecated. Instead, use mapreduce.job.maps\n",
            "2025-01-08 04:58:32,736 INFO streaming.PipeMapRed: R/W/S=1/0/0 in:NA [rec/s] out:NA [rec/s]\n",
            "2025-01-08 04:58:32,737 INFO streaming.PipeMapRed: R/W/S=10/0/0 in:NA [rec/s] out:NA [rec/s]\n",
            "2025-01-08 04:58:32,766 INFO streaming.PipeMapRed: Records R/W=11/1\n",
            "2025-01-08 04:58:32,771 INFO streaming.PipeMapRed: MRErrorThread done\n",
            "2025-01-08 04:58:32,771 INFO streaming.PipeMapRed: mapRedFinished\n",
            "2025-01-08 04:58:32,773 INFO mapred.Task: Task:attempt_local1096909175_0001_r_000000_0 is done. And is in the process of committing\n",
            "2025-01-08 04:58:32,775 INFO mapred.LocalJobRunner: 1 / 1 copied.\n",
            "2025-01-08 04:58:32,775 INFO mapred.Task: Task attempt_local1096909175_0001_r_000000_0 is allowed to commit now\n",
            "2025-01-08 04:58:32,776 INFO output.FileOutputCommitter: Saved output of task 'attempt_local1096909175_0001_r_000000_0' to file:/content/salidaMaxTemp1\n",
            "2025-01-08 04:58:32,778 INFO mapred.LocalJobRunner: Records R/W=11/1 > reduce\n",
            "2025-01-08 04:58:32,778 INFO mapred.Task: Task 'attempt_local1096909175_0001_r_000000_0' done.\n",
            "2025-01-08 04:58:32,779 INFO mapred.Task: Final Counters for attempt_local1096909175_0001_r_000000_0: Counters: 24\n",
            "\tFile System Counters\n",
            "\t\tFILE: Number of bytes read=2572\n",
            "\t\tFILE: Number of bytes written=645733\n",
            "\t\tFILE: Number of read operations=0\n",
            "\t\tFILE: Number of large read operations=0\n",
            "\t\tFILE: Number of write operations=0\n",
            "\tMap-Reduce Framework\n",
            "\t\tCombine input records=0\n",
            "\t\tCombine output records=0\n",
            "\t\tReduce input groups=3\n",
            "\t\tReduce shuffle bytes=105\n",
            "\t\tReduce input records=11\n",
            "\t\tReduce output records=3\n",
            "\t\tSpilled Records=11\n",
            "\t\tShuffled Maps =1\n",
            "\t\tFailed Shuffles=0\n",
            "\t\tMerged Map outputs=1\n",
            "\t\tGC time elapsed (ms)=0\n",
            "\t\tTotal committed heap usage (bytes)=303038464\n",
            "\tShuffle Errors\n",
            "\t\tBAD_ID=0\n",
            "\t\tCONNECTION=0\n",
            "\t\tIO_ERROR=0\n",
            "\t\tWRONG_LENGTH=0\n",
            "\t\tWRONG_MAP=0\n",
            "\t\tWRONG_REDUCE=0\n",
            "\tFile Output Format Counters \n",
            "\t\tBytes Written=39\n",
            "2025-01-08 04:58:32,779 INFO mapred.LocalJobRunner: Finishing task: attempt_local1096909175_0001_r_000000_0\n",
            "2025-01-08 04:58:32,779 INFO mapred.LocalJobRunner: reduce task executor complete.\n",
            "2025-01-08 04:58:32,930 INFO mapreduce.Job: Job job_local1096909175_0001 running in uber mode : false\n",
            "2025-01-08 04:58:32,931 INFO mapreduce.Job:  map 100% reduce 100%\n",
            "2025-01-08 04:58:32,932 INFO mapreduce.Job: Job job_local1096909175_0001 completed successfully\n",
            "2025-01-08 04:58:32,942 INFO mapreduce.Job: Counters: 30\n",
            "\tFile System Counters\n",
            "\t\tFILE: Number of bytes read=4902\n",
            "\t\tFILE: Number of bytes written=1291322\n",
            "\t\tFILE: Number of read operations=0\n",
            "\t\tFILE: Number of large read operations=0\n",
            "\t\tFILE: Number of write operations=0\n",
            "\tMap-Reduce Framework\n",
            "\t\tMap input records=11\n",
            "\t\tMap output records=11\n",
            "\t\tMap output bytes=77\n",
            "\t\tMap output materialized bytes=105\n",
            "\t\tInput split bytes=77\n",
            "\t\tCombine input records=0\n",
            "\t\tCombine output records=0\n",
            "\t\tReduce input groups=3\n",
            "\t\tReduce shuffle bytes=105\n",
            "\t\tReduce input records=11\n",
            "\t\tReduce output records=3\n",
            "\t\tSpilled Records=22\n",
            "\t\tShuffled Maps =1\n",
            "\t\tFailed Shuffles=0\n",
            "\t\tMerged Map outputs=1\n",
            "\t\tGC time elapsed (ms)=0\n",
            "\t\tTotal committed heap usage (bytes)=606076928\n",
            "\tShuffle Errors\n",
            "\t\tBAD_ID=0\n",
            "\t\tCONNECTION=0\n",
            "\t\tIO_ERROR=0\n",
            "\t\tWRONG_LENGTH=0\n",
            "\t\tWRONG_MAP=0\n",
            "\t\tWRONG_REDUCE=0\n",
            "\tFile Input Format Counters \n",
            "\t\tBytes Read=151\n",
            "\tFile Output Format Counters \n",
            "\t\tBytes Written=39\n",
            "2025-01-08 04:58:32,942 INFO streaming.StreamJob: Output directory: ./salidaMaxTemp1\n"
          ]
        }
      ]
    },
    {
      "cell_type": "code",
      "source": [
        "!cat ./salidaMaxTemp1/*"
      ],
      "metadata": {
        "colab": {
          "base_uri": "https://localhost:8080/"
        },
        "id": "WYDff7OgR1n4",
        "outputId": "8c2f021c-6731-44b6-dc3d-a8589f7de0fd"
      },
      "execution_count": 15,
      "outputs": [
        {
          "output_type": "stream",
          "name": "stdout",
          "text": [
            "1999\t5.0\n",
            "2000\t6.0\n",
            "2001\t3.0\n"
          ]
        }
      ]
    },
    {
      "cell_type": "code",
      "source": [
        "!java --version"
      ],
      "metadata": {
        "colab": {
          "base_uri": "https://localhost:8080/"
        },
        "id": "D48ig0NCZT0l",
        "outputId": "320f1dd1-08d3-458b-96c8-86c8466939b5"
      },
      "execution_count": 16,
      "outputs": [
        {
          "output_type": "stream",
          "name": "stdout",
          "text": [
            "openjdk 11.0.25 2024-10-15\n",
            "OpenJDK Runtime Environment (build 11.0.25+9-post-Ubuntu-1ubuntu122.04)\n",
            "OpenJDK 64-Bit Server VM (build 11.0.25+9-post-Ubuntu-1ubuntu122.04, mixed mode, sharing)\n"
          ]
        }
      ]
    },
    {
      "cell_type": "code",
      "source": [
        "! ls $HADOOP_HOME/share/hadoop/mapreduce/"
      ],
      "metadata": {
        "colab": {
          "base_uri": "https://localhost:8080/"
        },
        "id": "LoCkZRLYZdup",
        "outputId": "eb5cc199-eb6a-4eaf-9368-c9a75c0432c8"
      },
      "execution_count": 17,
      "outputs": [
        {
          "output_type": "stream",
          "name": "stdout",
          "text": [
            "hadoop-mapreduce-client-app-3.3.6.jar\t\t   hadoop-mapreduce-client-nativetask-3.3.6.jar\n",
            "hadoop-mapreduce-client-common-3.3.6.jar\t   hadoop-mapreduce-client-shuffle-3.3.6.jar\n",
            "hadoop-mapreduce-client-core-3.3.6.jar\t\t   hadoop-mapreduce-client-uploader-3.3.6.jar\n",
            "hadoop-mapreduce-client-hs-3.3.6.jar\t\t   hadoop-mapreduce-examples-3.3.6.jar\n",
            "hadoop-mapreduce-client-hs-plugins-3.3.6.jar\t   jdiff\n",
            "hadoop-mapreduce-client-jobclient-3.3.6.jar\t   lib-examples\n",
            "hadoop-mapreduce-client-jobclient-3.3.6-tests.jar  sources\n"
          ]
        }
      ]
    }
  ]
}