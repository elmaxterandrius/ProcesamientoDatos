{
  "nbformat": 4,
  "nbformat_minor": 0,
  "metadata": {
    "colab": {
      "provenance": []
    },
    "kernelspec": {
      "name": "python3",
      "display_name": "Python 3"
    },
    "language_info": {
      "name": "python"
    }
  },
  "cells": [
    {
      "cell_type": "markdown",
      "source": [
        "**1. Instalacion de JAVA y Hadoop**\n",
        "\n"
      ],
      "metadata": {
        "id": "iMnnZHhLUCUT"
      }
    },
    {
      "cell_type": "code",
      "execution_count": 2,
      "metadata": {
        "id": "QAOdBqCfJh84",
        "colab": {
          "base_uri": "https://localhost:8080/"
        },
        "outputId": "0e488c68-7842-45ae-a451-03aeba6d0f52"
      },
      "outputs": [
        {
          "output_type": "stream",
          "name": "stdout",
          "text": [
            "--2025-01-09 03:09:29--  https://downloads.apache.org/hadoop/common/hadoop-3.3.6/hadoop-3.3.6.tar.gz\n",
            "Resolving downloads.apache.org (downloads.apache.org)... 88.99.208.237, 135.181.214.104, 2a01:4f8:10a:39da::2, ...\n",
            "Connecting to downloads.apache.org (downloads.apache.org)|88.99.208.237|:443... connected.\n",
            "HTTP request sent, awaiting response... 200 OK\n",
            "Length: 730107476 (696M) [application/x-gzip]\n",
            "Saving to: ‘hadoop-3.3.6.tar.gz’\n",
            "\n",
            "hadoop-3.3.6.tar.gz 100%[===================>] 696.28M  29.2MB/s    in 25s     \n",
            "\n",
            "2025-01-09 03:09:55 (27.8 MB/s) - ‘hadoop-3.3.6.tar.gz’ saved [730107476/730107476]\n",
            "\n"
          ]
        }
      ],
      "source": [
        "!apt-get install -y openjdk-11-jdk-headless -qq > /dev/null\n",
        "!wget https://downloads.apache.org/hadoop/common/hadoop-3.3.6/hadoop-3.3.6.tar.gz"
      ]
    },
    {
      "cell_type": "markdown",
      "source": [
        "**2. Descomprimir hadoop y mover la carpeta hadoop a la carpeta /usr/local/**\n",
        "\n",
        "\n",
        "\n"
      ],
      "metadata": {
        "id": "cDc7u6sTUfyI"
      }
    },
    {
      "cell_type": "code",
      "source": [
        "!tar -xzf hadoop-3.3.6.tar.gz\n",
        "!mv hadoop-3.3.6/ /usr/local/"
      ],
      "metadata": {
        "id": "Y5Z9-Tf8LjpF"
      },
      "execution_count": 3,
      "outputs": []
    },
    {
      "cell_type": "markdown",
      "source": [
        "**3. Agregar las variables de entorno de JAVA y Hadoop y agregar al path el comando hadoop**"
      ],
      "metadata": {
        "id": "wmizjbXRU1gw"
      }
    },
    {
      "cell_type": "code",
      "source": [
        "import os\n",
        "os.environ[\"JAVA_HOME\"] = \"/usr/lib/jvm/java-11-openjdk-amd64\"\n",
        "os.environ[\"HADOOP_HOME\"] = \"/usr/local/hadoop-3.3.6\"\n",
        "os.environ[\"PATH\"] += os.pathsep + \"/usr/local/hadoop-3.3.6/bin\""
      ],
      "metadata": {
        "id": "HByNJANaMHRb"
      },
      "execution_count": 8,
      "outputs": []
    },
    {
      "cell_type": "markdown",
      "source": [
        "**4. Clonamos los archivos necesarios**"
      ],
      "metadata": {
        "id": "18Zn7XEZVUM9"
      }
    },
    {
      "cell_type": "code",
      "source": [
        "!rm *.txt\n",
        "!rm *.py\n",
        "!wget https://raw.githubusercontent.com/elmaxterandrius/ProcesamientoDatos/main/1.%20gastos%20tienda/casoDePrueba.txt\n",
        "!wget https://raw.githubusercontent.com/elmaxterandrius/ProcesamientoDatos/main/1.%20gastos%20tienda/MapperGastos.py\n",
        "!wget https://raw.githubusercontent.com/elmaxterandrius/ProcesamientoDatos/main/1.%20gastos%20tienda/ReducerGastos.py\n",
        "\n"
      ],
      "metadata": {
        "colab": {
          "base_uri": "https://localhost:8080/"
        },
        "id": "BEtM6mzCMdGz",
        "outputId": "ee6004cf-2942-4f34-ed78-75fb89866f0e"
      },
      "execution_count": 40,
      "outputs": [
        {
          "output_type": "stream",
          "name": "stdout",
          "text": [
            "--2025-01-09 03:53:57--  https://raw.githubusercontent.com/elmaxterandrius/ProcesamientoDatos/main/1.%20gastos%20tienda/casoDePrueba.txt\n",
            "Resolving raw.githubusercontent.com (raw.githubusercontent.com)... 185.199.111.133, 185.199.110.133, 185.199.109.133, ...\n",
            "Connecting to raw.githubusercontent.com (raw.githubusercontent.com)|185.199.111.133|:443... connected.\n",
            "HTTP request sent, awaiting response... 200 OK\n",
            "Length: 82 [text/plain]\n",
            "Saving to: ‘casoDePrueba.txt’\n",
            "\n",
            "\rcasoDePrueba.txt      0%[                    ]       0  --.-KB/s               \rcasoDePrueba.txt    100%[===================>]      82  --.-KB/s    in 0s      \n",
            "\n",
            "2025-01-09 03:53:57 (3.47 MB/s) - ‘casoDePrueba.txt’ saved [82/82]\n",
            "\n",
            "--2025-01-09 03:53:57--  https://raw.githubusercontent.com/elmaxterandrius/ProcesamientoDatos/main/1.%20gastos%20tienda/MapperGastos.py\n",
            "Resolving raw.githubusercontent.com (raw.githubusercontent.com)... 185.199.108.133, 185.199.109.133, 185.199.110.133, ...\n",
            "Connecting to raw.githubusercontent.com (raw.githubusercontent.com)|185.199.108.133|:443... connected.\n",
            "HTTP request sent, awaiting response... 200 OK\n",
            "Length: 323 [text/plain]\n",
            "Saving to: ‘MapperGastos.py’\n",
            "\n",
            "MapperGastos.py     100%[===================>]     323  --.-KB/s    in 0s      \n",
            "\n",
            "2025-01-09 03:53:58 (4.70 MB/s) - ‘MapperGastos.py’ saved [323/323]\n",
            "\n",
            "--2025-01-09 03:53:58--  https://raw.githubusercontent.com/elmaxterandrius/ProcesamientoDatos/main/1.%20gastos%20tienda/ReducerGastos.py\n",
            "Resolving raw.githubusercontent.com (raw.githubusercontent.com)... 185.199.111.133, 185.199.108.133, 185.199.109.133, ...\n",
            "Connecting to raw.githubusercontent.com (raw.githubusercontent.com)|185.199.111.133|:443... connected.\n",
            "HTTP request sent, awaiting response... 200 OK\n",
            "Length: 950 [text/plain]\n",
            "Saving to: ‘ReducerGastos.py’\n",
            "\n",
            "ReducerGastos.py    100%[===================>]     950  --.-KB/s    in 0s      \n",
            "\n",
            "2025-01-09 03:53:58 (45.4 MB/s) - ‘ReducerGastos.py’ saved [950/950]\n",
            "\n"
          ]
        }
      ]
    },
    {
      "cell_type": "markdown",
      "source": [
        "**5. Asignamos los permisos necesarios para la ejecución**"
      ],
      "metadata": {
        "id": "FPbLK2J-Dyit"
      }
    },
    {
      "cell_type": "code",
      "source": [
        "!chmod u+x MapperGastos.py\n",
        "!chmod u+x ReducerGastos.py"
      ],
      "metadata": {
        "id": "uuFT5FoxD8Kc"
      },
      "execution_count": 41,
      "outputs": []
    },
    {
      "cell_type": "markdown",
      "source": [
        "**6. Probamos el funcionamiento del Mapper**"
      ],
      "metadata": {
        "id": "L-MdVqcYOGKl"
      }
    },
    {
      "cell_type": "code",
      "source": [
        "!echo \"Alice;Tienda1;50\" | python3 MapperGastos.py\n",
        "\n"
      ],
      "metadata": {
        "colab": {
          "base_uri": "https://localhost:8080/"
        },
        "id": "ORZcfw5BKz-k",
        "outputId": "8c8fc60b-18f5-47c0-b8fa-745b82f38b20"
      },
      "execution_count": 46,
      "outputs": [
        {
          "output_type": "stream",
          "name": "stdout",
          "text": [
            "Alice;Tienda1\t50\n"
          ]
        }
      ]
    },
    {
      "cell_type": "markdown",
      "source": [
        "**6. Lanzamos hadoop Streaming**"
      ],
      "metadata": {
        "id": "6MMgkjFeVyNa"
      }
    },
    {
      "cell_type": "code",
      "source": [
        "!rm -r salidaGastos\n",
        "#!hadoop jar $HADOOP_HOME/share/hadoop/tools/lib/hadoop-streaming-3.3.6.jar -file ./MapperGastos.py -mapper ./MapperGastos.py -file ./ReducerGastos.py -reducer ./ReducerGastos.py -input casoDePrueba.txt -output ./salidaGastos\n",
        "!hadoop jar $HADOOP_HOME/share/hadoop/tools/lib/hadoop-streaming-3.3.6.jar \\\n",
        "    -input casoDePrueba.txt \\\n",
        "    -output ./salidaGastos \\\n",
        "    -mapper MapperGastos.py \\\n",
        "    -reducer ReducerGastos.py"
      ],
      "metadata": {
        "colab": {
          "base_uri": "https://localhost:8080/"
        },
        "id": "bzRj4t3aRr4N",
        "outputId": "4dc2ba93-9c20-488e-b7d4-df7121f07f9e"
      },
      "execution_count": 47,
      "outputs": [
        {
          "output_type": "stream",
          "name": "stdout",
          "text": [
            "2025-01-09 04:07:15,215 INFO impl.MetricsConfig: Loaded properties from hadoop-metrics2.properties\n",
            "2025-01-09 04:07:15,473 INFO impl.MetricsSystemImpl: Scheduled Metric snapshot period at 10 second(s).\n",
            "2025-01-09 04:07:15,473 INFO impl.MetricsSystemImpl: JobTracker metrics system started\n",
            "2025-01-09 04:07:15,506 WARN impl.MetricsSystemImpl: JobTracker metrics system already initialized!\n",
            "2025-01-09 04:07:15,821 INFO mapred.FileInputFormat: Total input files to process : 1\n",
            "2025-01-09 04:07:15,851 INFO mapreduce.JobSubmitter: number of splits:1\n",
            "2025-01-09 04:07:16,416 INFO mapreduce.JobSubmitter: Submitting tokens for job: job_local439492252_0001\n",
            "2025-01-09 04:07:16,416 INFO mapreduce.JobSubmitter: Executing with tokens: []\n",
            "2025-01-09 04:07:17,028 INFO mapreduce.Job: The url to track the job: http://localhost:8080/\n",
            "2025-01-09 04:07:17,031 INFO mapreduce.Job: Running job: job_local439492252_0001\n",
            "2025-01-09 04:07:17,052 INFO mapred.LocalJobRunner: OutputCommitter set in config null\n",
            "2025-01-09 04:07:17,062 INFO mapred.LocalJobRunner: OutputCommitter is org.apache.hadoop.mapred.FileOutputCommitter\n",
            "2025-01-09 04:07:17,086 INFO output.FileOutputCommitter: File Output Committer Algorithm version is 2\n",
            "2025-01-09 04:07:17,087 INFO output.FileOutputCommitter: FileOutputCommitter skip cleanup _temporary folders under output directory:false, ignore cleanup failures: false\n",
            "2025-01-09 04:07:17,237 INFO mapred.LocalJobRunner: Waiting for map tasks\n",
            "2025-01-09 04:07:17,255 INFO mapred.LocalJobRunner: Starting task: attempt_local439492252_0001_m_000000_0\n",
            "2025-01-09 04:07:17,312 INFO output.FileOutputCommitter: File Output Committer Algorithm version is 2\n",
            "2025-01-09 04:07:17,315 INFO output.FileOutputCommitter: FileOutputCommitter skip cleanup _temporary folders under output directory:false, ignore cleanup failures: false\n",
            "2025-01-09 04:07:17,399 INFO mapred.Task:  Using ResourceCalculatorProcessTree : [ ]\n",
            "2025-01-09 04:07:17,426 INFO mapred.MapTask: Processing split: file:/content/casoDePrueba.txt:0+82\n",
            "2025-01-09 04:07:17,479 INFO mapred.MapTask: numReduceTasks: 1\n",
            "2025-01-09 04:07:17,758 INFO mapred.MapTask: (EQUATOR) 0 kvi 26214396(104857584)\n",
            "2025-01-09 04:07:17,758 INFO mapred.MapTask: mapreduce.task.io.sort.mb: 100\n",
            "2025-01-09 04:07:17,758 INFO mapred.MapTask: soft limit at 83886080\n",
            "2025-01-09 04:07:17,758 INFO mapred.MapTask: bufstart = 0; bufvoid = 104857600\n",
            "2025-01-09 04:07:17,758 INFO mapred.MapTask: kvstart = 26214396; length = 6553600\n",
            "2025-01-09 04:07:17,769 INFO mapred.MapTask: Map output collector class = org.apache.hadoop.mapred.MapTask$MapOutputBuffer\n",
            "2025-01-09 04:07:17,789 INFO streaming.PipeMapRed: PipeMapRed exec [/content/./MapperGastos.py]\n",
            "2025-01-09 04:07:17,810 INFO Configuration.deprecation: mapred.work.output.dir is deprecated. Instead, use mapreduce.task.output.dir\n",
            "2025-01-09 04:07:17,817 INFO Configuration.deprecation: mapred.local.dir is deprecated. Instead, use mapreduce.cluster.local.dir\n",
            "2025-01-09 04:07:17,817 INFO Configuration.deprecation: map.input.file is deprecated. Instead, use mapreduce.map.input.file\n",
            "2025-01-09 04:07:17,818 INFO Configuration.deprecation: map.input.length is deprecated. Instead, use mapreduce.map.input.length\n",
            "2025-01-09 04:07:17,821 INFO Configuration.deprecation: mapred.job.id is deprecated. Instead, use mapreduce.job.id\n",
            "2025-01-09 04:07:17,821 INFO Configuration.deprecation: mapred.task.partition is deprecated. Instead, use mapreduce.task.partition\n",
            "2025-01-09 04:07:17,828 INFO Configuration.deprecation: map.input.start is deprecated. Instead, use mapreduce.map.input.start\n",
            "2025-01-09 04:07:17,828 INFO Configuration.deprecation: mapred.task.is.map is deprecated. Instead, use mapreduce.task.ismap\n",
            "2025-01-09 04:07:17,829 INFO Configuration.deprecation: mapred.task.id is deprecated. Instead, use mapreduce.task.attempt.id\n",
            "2025-01-09 04:07:17,829 INFO Configuration.deprecation: mapred.tip.id is deprecated. Instead, use mapreduce.task.id\n",
            "2025-01-09 04:07:17,830 INFO Configuration.deprecation: mapred.skip.on is deprecated. Instead, use mapreduce.job.skiprecords\n",
            "2025-01-09 04:07:17,831 INFO Configuration.deprecation: user.name is deprecated. Instead, use mapreduce.job.user.name\n",
            "2025-01-09 04:07:17,898 INFO streaming.PipeMapRed: R/W/S=1/0/0 in:NA [rec/s] out:NA [rec/s]\n",
            "2025-01-09 04:07:17,960 INFO streaming.PipeMapRed: Records R/W=5/1\n",
            "2025-01-09 04:07:17,965 INFO streaming.PipeMapRed: MRErrorThread done\n",
            "2025-01-09 04:07:17,968 INFO streaming.PipeMapRed: mapRedFinished\n",
            "2025-01-09 04:07:17,973 INFO mapred.LocalJobRunner: \n",
            "2025-01-09 04:07:17,974 INFO mapred.MapTask: Starting flush of map output\n",
            "2025-01-09 04:07:17,974 INFO mapred.MapTask: Spilling map output\n",
            "2025-01-09 04:07:17,974 INFO mapred.MapTask: bufstart = 0; bufend = 82; bufvoid = 104857600\n",
            "2025-01-09 04:07:17,974 INFO mapred.MapTask: kvstart = 26214396(104857584); kvend = 26214380(104857520); length = 17/6553600\n",
            "2025-01-09 04:07:17,990 INFO mapred.MapTask: Finished spill 0\n",
            "2025-01-09 04:07:18,043 INFO mapred.Task: Task:attempt_local439492252_0001_m_000000_0 is done. And is in the process of committing\n",
            "2025-01-09 04:07:18,051 INFO mapred.LocalJobRunner: Records R/W=5/1\n",
            "2025-01-09 04:07:18,051 INFO mapred.Task: Task 'attempt_local439492252_0001_m_000000_0' done.\n",
            "2025-01-09 04:07:18,066 INFO mapreduce.Job: Job job_local439492252_0001 running in uber mode : false\n",
            "2025-01-09 04:07:18,072 INFO mapred.Task: Final Counters for attempt_local439492252_0001_m_000000_0: Counters: 17\n",
            "\tFile System Counters\n",
            "\t\tFILE: Number of bytes read=141485\n",
            "\t\tFILE: Number of bytes written=780203\n",
            "\t\tFILE: Number of read operations=0\n",
            "\t\tFILE: Number of large read operations=0\n",
            "\t\tFILE: Number of write operations=0\n",
            "\tMap-Reduce Framework\n",
            "\t\tMap input records=5\n",
            "\t\tMap output records=5\n",
            "\t\tMap output bytes=82\n",
            "\t\tMap output materialized bytes=98\n",
            "\t\tInput split bytes=82\n",
            "\t\tCombine input records=0\n",
            "\t\tSpilled Records=5\n",
            "\t\tFailed Shuffles=0\n",
            "\t\tMerged Map outputs=0\n",
            "\t\tGC time elapsed (ms)=0\n",
            "\t\tTotal committed heap usage (bytes)=390070272\n",
            "\tFile Input Format Counters \n",
            "\t\tBytes Read=82\n",
            "2025-01-09 04:07:18,073 INFO mapred.LocalJobRunner: Finishing task: attempt_local439492252_0001_m_000000_0\n",
            "2025-01-09 04:07:18,074 INFO mapreduce.Job:  map 100% reduce 0%\n",
            "2025-01-09 04:07:18,076 INFO mapred.LocalJobRunner: map task executor complete.\n",
            "2025-01-09 04:07:18,081 INFO mapred.LocalJobRunner: Waiting for reduce tasks\n",
            "2025-01-09 04:07:18,085 INFO mapred.LocalJobRunner: Starting task: attempt_local439492252_0001_r_000000_0\n",
            "2025-01-09 04:07:18,125 INFO output.FileOutputCommitter: File Output Committer Algorithm version is 2\n",
            "2025-01-09 04:07:18,125 INFO output.FileOutputCommitter: FileOutputCommitter skip cleanup _temporary folders under output directory:false, ignore cleanup failures: false\n",
            "2025-01-09 04:07:18,126 INFO mapred.Task:  Using ResourceCalculatorProcessTree : [ ]\n",
            "2025-01-09 04:07:18,132 INFO mapred.ReduceTask: Using ShuffleConsumerPlugin: org.apache.hadoop.mapreduce.task.reduce.Shuffle@4dfe42c1\n",
            "2025-01-09 04:07:18,135 WARN impl.MetricsSystemImpl: JobTracker metrics system already initialized!\n",
            "2025-01-09 04:07:18,187 INFO reduce.MergeManagerImpl: MergerManager: memoryLimit=2382574336, maxSingleShuffleLimit=595643584, mergeThreshold=1572499072, ioSortFactor=10, memToMemMergeOutputsThreshold=10\n",
            "2025-01-09 04:07:18,195 INFO reduce.EventFetcher: attempt_local439492252_0001_r_000000_0 Thread started: EventFetcher for fetching Map Completion Events\n",
            "2025-01-09 04:07:18,324 INFO reduce.LocalFetcher: localfetcher#1 about to shuffle output of map attempt_local439492252_0001_m_000000_0 decomp: 94 len: 98 to MEMORY\n",
            "2025-01-09 04:07:18,333 INFO reduce.InMemoryMapOutput: Read 94 bytes from map-output for attempt_local439492252_0001_m_000000_0\n",
            "2025-01-09 04:07:18,339 INFO reduce.MergeManagerImpl: closeInMemoryFile -> map-output of size: 94, inMemoryMapOutputs.size() -> 1, commitMemory -> 0, usedMemory ->94\n",
            "2025-01-09 04:07:18,343 INFO reduce.EventFetcher: EventFetcher is interrupted.. Returning\n",
            "2025-01-09 04:07:18,345 INFO mapred.LocalJobRunner: 1 / 1 copied.\n",
            "2025-01-09 04:07:18,345 INFO reduce.MergeManagerImpl: finalMerge called with 1 in-memory map-outputs and 0 on-disk map-outputs\n",
            "2025-01-09 04:07:18,362 INFO mapred.Merger: Merging 1 sorted segments\n",
            "2025-01-09 04:07:18,363 INFO mapred.Merger: Down to the last merge-pass, with 1 segments left of total size: 78 bytes\n",
            "2025-01-09 04:07:18,378 INFO reduce.MergeManagerImpl: Merged 1 segments, 94 bytes to disk to satisfy reduce memory limit\n",
            "2025-01-09 04:07:18,385 INFO reduce.MergeManagerImpl: Merging 1 files, 98 bytes from disk\n",
            "2025-01-09 04:07:18,386 INFO reduce.MergeManagerImpl: Merging 0 segments, 0 bytes from memory into reduce\n",
            "2025-01-09 04:07:18,386 INFO mapred.Merger: Merging 1 sorted segments\n",
            "2025-01-09 04:07:18,397 INFO mapred.Merger: Down to the last merge-pass, with 1 segments left of total size: 78 bytes\n",
            "2025-01-09 04:07:18,398 INFO mapred.LocalJobRunner: 1 / 1 copied.\n",
            "2025-01-09 04:07:18,416 INFO streaming.PipeMapRed: PipeMapRed exec [/content/./ReducerGastos.py]\n",
            "2025-01-09 04:07:18,422 INFO Configuration.deprecation: mapred.job.tracker is deprecated. Instead, use mapreduce.jobtracker.address\n",
            "2025-01-09 04:07:18,435 INFO Configuration.deprecation: mapred.map.tasks is deprecated. Instead, use mapreduce.job.maps\n",
            "2025-01-09 04:07:18,514 INFO streaming.PipeMapRed: R/W/S=1/0/0 in:NA [rec/s] out:NA [rec/s]\n",
            "2025-01-09 04:07:18,569 INFO streaming.PipeMapRed: Records R/W=5/1\n",
            "2025-01-09 04:07:18,587 INFO streaming.PipeMapRed: MRErrorThread done\n",
            "2025-01-09 04:07:18,589 INFO streaming.PipeMapRed: mapRedFinished\n",
            "2025-01-09 04:07:18,597 INFO mapred.Task: Task:attempt_local439492252_0001_r_000000_0 is done. And is in the process of committing\n",
            "2025-01-09 04:07:18,604 INFO mapred.LocalJobRunner: 1 / 1 copied.\n",
            "2025-01-09 04:07:18,611 INFO mapred.Task: Task attempt_local439492252_0001_r_000000_0 is allowed to commit now\n",
            "2025-01-09 04:07:18,627 INFO output.FileOutputCommitter: Saved output of task 'attempt_local439492252_0001_r_000000_0' to file:/content/salidaGastos\n",
            "2025-01-09 04:07:18,638 INFO mapred.LocalJobRunner: Records R/W=5/1 > reduce\n",
            "2025-01-09 04:07:18,639 INFO mapred.Task: Task 'attempt_local439492252_0001_r_000000_0' done.\n",
            "2025-01-09 04:07:18,642 INFO mapred.Task: Final Counters for attempt_local439492252_0001_r_000000_0: Counters: 24\n",
            "\tFile System Counters\n",
            "\t\tFILE: Number of bytes read=141713\n",
            "\t\tFILE: Number of bytes written=780374\n",
            "\t\tFILE: Number of read operations=0\n",
            "\t\tFILE: Number of large read operations=0\n",
            "\t\tFILE: Number of write operations=0\n",
            "\tMap-Reduce Framework\n",
            "\t\tCombine input records=0\n",
            "\t\tCombine output records=0\n",
            "\t\tReduce input groups=3\n",
            "\t\tReduce shuffle bytes=98\n",
            "\t\tReduce input records=5\n",
            "\t\tReduce output records=3\n",
            "\t\tSpilled Records=5\n",
            "\t\tShuffled Maps =1\n",
            "\t\tFailed Shuffles=0\n",
            "\t\tMerged Map outputs=1\n",
            "\t\tGC time elapsed (ms)=0\n",
            "\t\tTotal committed heap usage (bytes)=390070272\n",
            "\tShuffle Errors\n",
            "\t\tBAD_ID=0\n",
            "\t\tCONNECTION=0\n",
            "\t\tIO_ERROR=0\n",
            "\t\tWRONG_LENGTH=0\n",
            "\t\tWRONG_MAP=0\n",
            "\t\tWRONG_REDUCE=0\n",
            "\tFile Output Format Counters \n",
            "\t\tBytes Written=73\n",
            "2025-01-09 04:07:18,644 INFO mapred.LocalJobRunner: Finishing task: attempt_local439492252_0001_r_000000_0\n",
            "2025-01-09 04:07:18,644 INFO mapred.LocalJobRunner: reduce task executor complete.\n",
            "2025-01-09 04:07:19,090 INFO mapreduce.Job:  map 100% reduce 100%\n",
            "2025-01-09 04:07:19,091 INFO mapreduce.Job: Job job_local439492252_0001 completed successfully\n",
            "2025-01-09 04:07:19,115 INFO mapreduce.Job: Counters: 30\n",
            "\tFile System Counters\n",
            "\t\tFILE: Number of bytes read=283198\n",
            "\t\tFILE: Number of bytes written=1560577\n",
            "\t\tFILE: Number of read operations=0\n",
            "\t\tFILE: Number of large read operations=0\n",
            "\t\tFILE: Number of write operations=0\n",
            "\tMap-Reduce Framework\n",
            "\t\tMap input records=5\n",
            "\t\tMap output records=5\n",
            "\t\tMap output bytes=82\n",
            "\t\tMap output materialized bytes=98\n",
            "\t\tInput split bytes=82\n",
            "\t\tCombine input records=0\n",
            "\t\tCombine output records=0\n",
            "\t\tReduce input groups=3\n",
            "\t\tReduce shuffle bytes=98\n",
            "\t\tReduce input records=5\n",
            "\t\tReduce output records=3\n",
            "\t\tSpilled Records=10\n",
            "\t\tShuffled Maps =1\n",
            "\t\tFailed Shuffles=0\n",
            "\t\tMerged Map outputs=1\n",
            "\t\tGC time elapsed (ms)=0\n",
            "\t\tTotal committed heap usage (bytes)=780140544\n",
            "\tShuffle Errors\n",
            "\t\tBAD_ID=0\n",
            "\t\tCONNECTION=0\n",
            "\t\tIO_ERROR=0\n",
            "\t\tWRONG_LENGTH=0\n",
            "\t\tWRONG_MAP=0\n",
            "\t\tWRONG_REDUCE=0\n",
            "\tFile Input Format Counters \n",
            "\t\tBytes Read=82\n",
            "\tFile Output Format Counters \n",
            "\t\tBytes Written=73\n",
            "2025-01-09 04:07:19,119 INFO streaming.StreamJob: Output directory: ./salidaGastos\n"
          ]
        }
      ]
    },
    {
      "cell_type": "code",
      "source": [
        "!cat ./salidaGastos/*"
      ],
      "metadata": {
        "colab": {
          "base_uri": "https://localhost:8080/"
        },
        "id": "WYDff7OgR1n4",
        "outputId": "a12e2a7b-988b-47da-c0f4-1269aaf0424d"
      },
      "execution_count": 48,
      "outputs": [
        {
          "output_type": "stream",
          "name": "stdout",
          "text": [
            "Alice;Tienda1;75.00\t\n",
            "Alice;Tienda2;20.00\t\n",
            "Bob;Tienda1;25.00\t\n"
          ]
        }
      ]
    }
  ]
}